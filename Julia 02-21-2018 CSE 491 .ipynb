
1+2

1.+2
#knows difference between floating point and integer

1/2
#division is floating point division

2^2
#power is caret

1//2
#rational division (types) not integer division

1//2+3//4

1+3*im
#complex numbers

#function calls 
conj(1+3im)

(1+3im)*(2+4im)

"string" #double quoted strings

'th' #characters are single quotes 

't'

v = [1,2,3,4] #column vector by default, 1-dimensional 

#horizontal concatenation
vv = [1 2 3 4]

#vertical concatenation
vvv = [1 ; 2; 3; 4]

#array literal

A= [[1 2 3];[4 5 6]]

#a row vector and will vertically concatenate that with another row vector
#also use hcat, cat

?cat
#help mode

#if type semicolon then you have a shell
;ls

#Julia's arrays are indexed starting at 1
v[1]

v[2:end]

v[-1]

v[1:end-1]

A[:] 

#julia is column major (fortran tradition)

A' #transpose like matlab

A[:,2] #indexing 

A + 1 #broadcasting works

A*2 #multiplies by scalar

A*[0,0,1]

A.*[0,1] #matrix multiply (dot notation)

log.(A) #. equivalent to map(f, A)

#multiplication of y by the inverse of x on the left. Gives floating-point results for integer arguments.
A\ [5,6] #back-solve

A / diagm([1,2,3]) #solving linear system in efficient way

A ./ diagm([1,2,3])

A./[5,6]

typeof(A)
#A is an array that takes 2 parameters

eltype(A)

size(A) #.shape in numpy

#assign nonint to array can’t convert float point to int
A[end] = 1.5

#construct new array
B = [1.5, 1, -2, 3+2im]

C = [1.5,1,-2., "foo", 'f']

D = Any[1,2,3] # ANY its high up in type hierarchy

D[end] = 'f'

D 

dd = Dict('a' => 1, 'b' =>2)

keys(dd) 

values(dd)

#like update in python
merge!(dd, Dict('z'=> 26, 'y'=>25))

dd

#We have sets - needs to take an iterable 
ss = Set([1,2,3,4])

3 in ss

pi 
pi in ss

(1.1, 2)

(1,2) +(3,4)

aa,bb = (1,2), (3,4)

#the ... operator is used to combine many different arguments into a single argument. SLURPING 
(aa...,bb...) 

#list comprehensions work
[x^2 for x in 1:5]

typeof([x^2 for x in 1:5])

#create array of tuples
[(a,b) for a = 1:5, b = 6:10]

#string interpolation is done with dollar signs
for (k,v) in dd
println("key $k, value $v")
end

function doubler(x)
return 2x
end

doubler(2), doubler(6)

#no return keyword needed
function tripler(x)
3x
end

tripler(3)

halver(x) = x//2

halver(5)

Float64(halver(5))

firstelem = x -> x[1]

firstelem(A)

A

firstelem("tester")

#this is the case - how to zero out diagonal in matrix?

function zerodiag!(x)
for i in 1:maximum(size(x))
x[i,i] = 0 
end
return x
end


A = rand(5,5)

B = zerodiag!(A)

A

# ... operator is also used to cause a single function argument to be split apart into many different arguments when #used in the context of a function call.

function parser(var, val, rest...) 
println("variable name $var")
println("value  $val")
println(rest)
end

#: is a symbol - string that is x and a variable that is x
parser(:x, 5,6,7,8, "foo")

function randlike(A)
sizetup = size(A)
return rand(sizetup...)
end


randlike(B)

function Lpnorm(x, p=2)
return sum(x.^p)^(1/p)
end

norm(rand(10))

Lpnorm(rand(10))

Lpnorm(rand(10),3)

lastelem(x) = x[end]

lastelem(1:5) #works range

lastelem([2,4,6]) #works array

lastelem("footer") #works string

doubler("foo") #will fail

typeof(1)

typeof(1.)

typeof(1.0)

typeof('a')

typeof(A)

eltype(A)

ndims(A)

#so types in julia are just other variables
T = typeof(1.)

T = typeof(T)

typeof(T)
#this in one kind of way of type hierarchy

#another type of hierarchy

#Julia it really is a tree, no multiple inheritance
#Any is at top, you can have multiple children, but every type has only 1 parent
#only types with no nodes, leafs, children are concrete
#variables can only be concrete type
#limitation - cannot instantiate a variable thet is Real

#have to instatiante variable as a float or int 

supertype(T)

supertype(AbstractFloat)

supertype(Real)

supertype(Number)

supertype(Any) 

#challenge
supertype(Complex)

subtypes(Complex)

subtypes(Number)

supertype(UnionAll)

subtypes(Real) #irrational like pi or e 

#(Array {T,N} where N where T){Float32}{2}
#(Array{Float32, N} where N {2})
#Array{Float32,2}
subtypes(Integer) #defining new numeric types is easy

Float64 <: Real #descendent adjacent 

Float64 <: AbstractFloat #transative

#instances 
isa(1, Float64)

isa(1.,Float64)

#multiple ways but this works too
convert(Int64,1.)

Int64(1.)

convert(Float32,3.75) 

#find out if type is concrete or abstract
isleaftype(Int64)

isleaftype(AbstractFloat)

isa(A, Array{Float64,2})

isa(A,Array)

B = reshape(1:25,5,5)

isa(B,Array) #works in the class of arrays

A = rand(5,5)

#give function type specification
function lastel(A::Array)
return A[end]
end

lastel(A)

lastel(5)

#input function is allowed to take is an array of type T
#work in any array with numbers

function diagsum{T<:Number}(A::Array{T})
return sum(diag(A))
end

diagsum(A)

#changing a bit adding dimension 2 
function diagsum{T<:Number}(A::Array{T, 2})
return sum(diag(A))
end

diagsum(A)

diagram(rand(7)) 

# FAIL it is one dimensional
#-but we want the behavior

#-T is a type parameter restricted it to Number
#-v is vector - aliases for matrices of dim 1 and 2 could say Array{t,1}

diagsum{T<:Number}(v::Vector{T})=sum(v)

#now it has 6 methods
#types are crucially important because types will determine what version of the code gets called

#if i have a singleton the diagonal sum will be that number
diagsum(x::Number) = x


diagsum(5)

diagsum(rand(7))

#macros all have an @ sign

#which version of function gets called and what line is on
@which diagsum(5)


#import behavior 
methods(diagsum)

methods(+) 

doubler(x) = 2x

doubler(2.)

doubler(x=0) = 2x

doubler(x::Int64) = 2x #Dont do this
#only give julia type information that is as narrow as possible and if the behavior is well defined
#use it ONLY to restrict input for function 

using PyCall
@pyimport requests
